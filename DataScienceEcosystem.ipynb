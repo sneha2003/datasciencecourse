{
 "cells": [
  {
   "cell_type": "markdown",
   "id": "12af13ae-5da1-428d-9ae4-ee09a525b083",
   "metadata": {},
   "source": [
    "# Data Science Tools and Ecosystem"
   ]
  },
  {
   "cell_type": "markdown",
   "id": "9ae1e9b9-889f-4bc0-981b-f6176f814e7b",
   "metadata": {},
   "source": [
    "In this notebook, Data Science Tools and Ecosystem are summarized."
   ]
  },
  {
   "cell_type": "markdown",
   "id": "23a26257-ce0c-42fd-a731-a2f0ddb000e6",
   "metadata": {},
   "source": [
    "**Objectives**\n",
    "- Popular languages that data scientist use\n",
    "- some commonly used libraries used by data scientist\n",
    "- Evaluating arithmetic expressions in python"
   ]
  },
  {
   "cell_type": "markdown",
   "id": "958909a4-66f2-40e8-9760-d0681ea62394",
   "metadata": {},
   "source": [
    "Some of the popular languages that Data Scientists use are:\n",
    "1. Python\n",
    "2. R language\n",
    "3. Julia"
   ]
  },
  {
   "cell_type": "markdown",
   "id": "e95168bd-bff8-4780-96d4-3a5328accddd",
   "metadata": {},
   "source": [
    "Some of the commonly used libraries used by Data Scientists include:\n",
    "1. sklearn\n",
    "2. keras\n",
    "3. tensor flow"
   ]
  },
  {
   "cell_type": "markdown",
   "id": "48d40dda-6360-407d-80c8-ed16bb5c1e76",
   "metadata": {},
   "source": [
    "| Datascience tools | \n",
    "| --- | \n",
    "| Jupyter notebook |\n",
    "| R studio |\n",
    "| VS code | "
   ]
  },
  {
   "cell_type": "markdown",
   "id": "f2d02d0c-52d9-4bb1-9427-debeee965a23",
   "metadata": {},
   "source": [
    "### Below are a few examples of evaluating arithmetic expressions in Python"
   ]
  },
  {
   "cell_type": "code",
   "execution_count": 1,
   "id": "7facae5f-0532-47a2-b091-5c8fd49a2cf9",
   "metadata": {},
   "outputs": [
    {
     "data": {
      "text/plain": [
       "17"
      ]
     },
     "execution_count": 1,
     "metadata": {},
     "output_type": "execute_result"
    }
   ],
   "source": [
    "#This a simple arithmetic expression to mutiply then add integers\n",
    "(3*4)+5"
   ]
  },
  {
   "cell_type": "code",
   "execution_count": 2,
   "id": "e12e6342-52ed-4352-a75f-06aa995c7cca",
   "metadata": {},
   "outputs": [
    {
     "name": "stdout",
     "output_type": "stream",
     "text": [
      "200 minutes is equal to 3.3333333333333335 hours.\n"
     ]
    }
   ],
   "source": [
    "#This will convert 200 minutes to hours by diving by 60\n",
    "minutes = 200\n",
    "hours = minutes / 60\n",
    "print(\"200 minutes is equal to\", hours, \"hours.\")"
   ]
  },
  {
   "cell_type": "markdown",
   "id": "a53da858-4675-4f47-a15d-ebf3f3eef391",
   "metadata": {},
   "source": [
    "## Author\n",
    "Sneha K B"
   ]
  },
  {
   "cell_type": "code",
   "execution_count": null,
   "id": "0a621857-0806-416f-a9ec-ab369ee6372c",
   "metadata": {},
   "outputs": [],
   "source": []
  }
 ],
 "metadata": {
  "kernelspec": {
   "display_name": "Python 3 (ipykernel)",
   "language": "python",
   "name": "python3"
  },
  "language_info": {
   "codemirror_mode": {
    "name": "ipython",
    "version": 3
   },
   "file_extension": ".py",
   "mimetype": "text/x-python",
   "name": "python",
   "nbconvert_exporter": "python",
   "pygments_lexer": "ipython3",
   "version": "3.12.2"
  }
 },
 "nbformat": 4,
 "nbformat_minor": 5
}
